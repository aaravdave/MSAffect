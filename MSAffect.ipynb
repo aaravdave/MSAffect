{
  "cells": [
    {
      "cell_type": "code",
      "execution_count": null,
      "metadata": {
        "cellView": "form",
        "id": "xMqSQI7ieiSJ"
      },
      "outputs": [],
      "source": [
        "# @title Run MSAffect\n",
        "\n",
        "# !pip freeze > requirements.txt\n",
        "# !pip freeze | xargs pip uninstall -y\n",
        "# !pip install -r requirements.txt\n",
        "\n",
        "!rm -r results\n",
        "!python main.py\n"
      ]
    },
    {
      "cell_type": "code",
      "execution_count": null,
      "metadata": {
        "cellView": "form",
        "collapsed": true,
        "id": "TBzMbLBEejD4"
      },
      "outputs": [],
      "source": [
        "# @title Push to MSAffect GitHub\n",
        "\n",
        "import os\n",
        "\n",
        "GITHUB_TOKEN = \"\"  # @param {type: \"string\"}\n",
        "\n",
        "!git add .\n",
        "!git commit -m \"Project update from Google Colab\" || echo \"nothing to commit, working tree clean\"\n",
        "\n",
        "print('Process finished with exit code', os.system(f\"git push https://{GITHUB_TOKEN}@github.com/aaravdave/MSAffect.git\"))"
      ]
    },
    {
      "cell_type": "code",
      "execution_count": null,
      "metadata": {
        "cellView": "form",
        "collapsed": true,
        "id": "kOblAo-xetgx"
      },
      "outputs": [],
      "source": [
        "# @title Initiate MSAffect Environment\n",
        "\n",
        "!rm -r sample_data\n",
        "!git clone https://github.com/aaravdave/MSAffect.git\n",
        "%cd MSAffect/\n",
        "!rm -r alphafold\n",
        "!rm -r colabfold\n",
        "!git config --global user.email \"aarinaarav@gmail.com\"\n",
        "!git config --global user.name \"Aarav Dave\"\n",
        "\n",
        "!pip install -q --no-warn-conflicts \"colabfold[alphafold-minus-jax] @ git+https://github.com/sokrypton/ColabFold\"\n",
        "!ln -s /usr/local/lib/python3.*/dist-packages/colabfold colabfold\n",
        "!ln -s /usr/local/lib/python3.*/dist-packages/alphafold alphafold\n"
      ]
    }
  ],
  "metadata": {
    "accelerator": "GPU",
    "colab": {
      "gpuType": "T4",
      "provenance": []
    },
    "kernelspec": {
      "display_name": "Python 3",
      "name": "python3"
    },
    "language_info": {
      "codemirror_mode": {
        "name": "ipython",
        "version": 3
      },
      "file_extension": ".py",
      "mimetype": "text/x-python",
      "name": "python",
      "nbconvert_exporter": "python",
      "pygments_lexer": "ipython3",
      "version": "3.8.10"
    }
  },
  "nbformat": 4,
  "nbformat_minor": 0
}